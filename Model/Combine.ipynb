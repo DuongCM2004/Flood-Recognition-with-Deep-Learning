{
 "cells": [
  {
   "cell_type": "code",
   "execution_count": 1,
   "id": "958c41fa-4247-4a93-b8e1-9cfc51fed66f",
   "metadata": {},
   "outputs": [
    {
     "name": "stdout",
     "output_type": "stream",
     "text": [
      "WARNING:tensorflow:From C:\\Users\\minhd\\anaconda3\\Lib\\site-packages\\tf_keras\\src\\losses.py:2976: The name tf.losses.sparse_softmax_cross_entropy is deprecated. Please use tf.compat.v1.losses.sparse_softmax_cross_entropy instead.\n",
      "\n"
     ]
    }
   ],
   "source": [
    "import tensorflow as tf\n",
    "from tensorflow.keras.layers import Input, Dense, Concatenate, GlobalAveragePooling2D\n",
    "from tensorflow.keras.models import Model\n",
    "from transformers import TFBertModel, BertTokenizer\n",
    "from tensorflow.keras.applications import EfficientNetB0\n",
    "import pandas as pd"
   ]
  },
  {
   "cell_type": "code",
   "execution_count": 2,
   "id": "fe9666f9-6c07-4e3d-a6cb-2481a0ccff1b",
   "metadata": {},
   "outputs": [
    {
     "data": {
      "text/html": [
       "<div>\n",
       "<style scoped>\n",
       "    .dataframe tbody tr th:only-of-type {\n",
       "        vertical-align: middle;\n",
       "    }\n",
       "\n",
       "    .dataframe tbody tr th {\n",
       "        vertical-align: top;\n",
       "    }\n",
       "\n",
       "    .dataframe thead th {\n",
       "        text-align: right;\n",
       "    }\n",
       "</style>\n",
       "<table border=\"1\" class=\"dataframe\">\n",
       "  <thead>\n",
       "    <tr style=\"text-align: right;\">\n",
       "      <th></th>\n",
       "      <th>description</th>\n",
       "      <th>user_tags</th>\n",
       "      <th>title</th>\n",
       "      <th>license_name</th>\n",
       "      <th>user_nsid</th>\n",
       "      <th>image_extension_original</th>\n",
       "      <th>longitude</th>\n",
       "      <th>image_id</th>\n",
       "      <th>license_url</th>\n",
       "      <th>date_uploaded</th>\n",
       "      <th>date_taken</th>\n",
       "      <th>latitude</th>\n",
       "      <th>image_url</th>\n",
       "      <th>user_nickname</th>\n",
       "      <th>capture_device</th>\n",
       "    </tr>\n",
       "  </thead>\n",
       "  <tbody>\n",
       "    <tr>\n",
       "      <th>0</th>\n",
       "      <td>None</td>\n",
       "      <td>[2009 road trip, obrero road trip]</td>\n",
       "      <td>Biltmore Estate</td>\n",
       "      <td>Attribution-NonCommercial-NoDerivs License</td>\n",
       "      <td>95156977@N00</td>\n",
       "      <td>jpg</td>\n",
       "      <td>NaN</td>\n",
       "      <td>3519864665</td>\n",
       "      <td>http://creativecommons.org/licenses/by-nc-nd/2.0/</td>\n",
       "      <td>1242004112</td>\n",
       "      <td>2009-05-10 08:27:33.0</td>\n",
       "      <td>NaN</td>\n",
       "      <td>http://www.flickr.com/photos/95156977@N00/3519...</td>\n",
       "      <td>5 Flip-Flops (Earl)</td>\n",
       "      <td>Canon EOS DIGITAL REBEL XT</td>\n",
       "    </tr>\n",
       "    <tr>\n",
       "      <th>1</th>\n",
       "      <td>None</td>\n",
       "      <td>[daulatabad, daulatabad fort, ellora, road trip]</td>\n",
       "      <td>Chand Minar</td>\n",
       "      <td>Attribution-ShareAlike License</td>\n",
       "      <td>24574470@N00</td>\n",
       "      <td>jpg</td>\n",
       "      <td>75.200386</td>\n",
       "      <td>4896119055</td>\n",
       "      <td>http://creativecommons.org/licenses/by-sa/2.0/</td>\n",
       "      <td>1281931224</td>\n",
       "      <td>2010-08-14 13:35:10.0</td>\n",
       "      <td>19.939383</td>\n",
       "      <td>http://www.flickr.com/photos/24574470@N00/4896...</td>\n",
       "      <td>sankarshan</td>\n",
       "      <td>NIKON CORPORATION NIKON D90</td>\n",
       "    </tr>\n",
       "    <tr>\n",
       "      <th>2</th>\n",
       "      <td>After the flood, the boarded up stores bear up...</td>\n",
       "      <td>[cedarrapids, createsouthroadtrip2009, disaste...</td>\n",
       "      <td>Uplifting Graffiti</td>\n",
       "      <td>Attribution License</td>\n",
       "      <td>73451168@N00</td>\n",
       "      <td>jpg</td>\n",
       "      <td>NaN</td>\n",
       "      <td>3468473862</td>\n",
       "      <td>http://creativecommons.org/licenses/by/2.0/</td>\n",
       "      <td>1240493762</td>\n",
       "      <td>2009-04-21 18:07:56.0</td>\n",
       "      <td>NaN</td>\n",
       "      <td>http://www.flickr.com/photos/73451168@N00/3468...</td>\n",
       "      <td>J Wynia</td>\n",
       "      <td>Panasonic DMC-TZ5</td>\n",
       "    </tr>\n",
       "    <tr>\n",
       "      <th>3</th>\n",
       "      <td>None</td>\n",
       "      <td>[cork, enchente, flood, ireland, irlanda]</td>\n",
       "      <td>DSCF6487</td>\n",
       "      <td>Attribution-NonCommercial-NoDerivs License</td>\n",
       "      <td>12947023@N00</td>\n",
       "      <td>jpg</td>\n",
       "      <td>-8.621177</td>\n",
       "      <td>4120853942</td>\n",
       "      <td>http://creativecommons.org/licenses/by-nc-nd/2.0/</td>\n",
       "      <td>1258754762</td>\n",
       "      <td>2009-11-20 15:16:40.0</td>\n",
       "      <td>51.889603</td>\n",
       "      <td>http://www.flickr.com/photos/12947023@N00/4120...</td>\n",
       "      <td>guileite</td>\n",
       "      <td>FUJIFILM FinePix S6000fd</td>\n",
       "    </tr>\n",
       "    <tr>\n",
       "      <th>4</th>\n",
       "      <td>None</td>\n",
       "      <td>[athens georgia, brown, current, flood, mud, r...</td>\n",
       "      <td>Oconoe river - flooded</td>\n",
       "      <td>Attribution License</td>\n",
       "      <td>60704492@N00</td>\n",
       "      <td>jpg</td>\n",
       "      <td>-83.368265</td>\n",
       "      <td>4436083254</td>\n",
       "      <td>http://creativecommons.org/licenses/by/2.0/</td>\n",
       "      <td>1268676971</td>\n",
       "      <td>2010-03-13 15:14:04.0</td>\n",
       "      <td>33.949149</td>\n",
       "      <td>http://www.flickr.com/photos/60704492@N00/4436...</td>\n",
       "      <td>The_Gut</td>\n",
       "      <td>Canon PowerShot SX10 IS</td>\n",
       "    </tr>\n",
       "  </tbody>\n",
       "</table>\n",
       "</div>"
      ],
      "text/plain": [
       "                                         description  \\\n",
       "0                                               None   \n",
       "1                                               None   \n",
       "2  After the flood, the boarded up stores bear up...   \n",
       "3                                               None   \n",
       "4                                               None   \n",
       "\n",
       "                                           user_tags                   title  \\\n",
       "0                 [2009 road trip, obrero road trip]         Biltmore Estate   \n",
       "1   [daulatabad, daulatabad fort, ellora, road trip]             Chand Minar   \n",
       "2  [cedarrapids, createsouthroadtrip2009, disaste...      Uplifting Graffiti   \n",
       "3          [cork, enchente, flood, ireland, irlanda]                DSCF6487   \n",
       "4  [athens georgia, brown, current, flood, mud, r...  Oconoe river - flooded   \n",
       "\n",
       "                                 license_name     user_nsid  \\\n",
       "0  Attribution-NonCommercial-NoDerivs License  95156977@N00   \n",
       "1              Attribution-ShareAlike License  24574470@N00   \n",
       "2                         Attribution License  73451168@N00   \n",
       "3  Attribution-NonCommercial-NoDerivs License  12947023@N00   \n",
       "4                         Attribution License  60704492@N00   \n",
       "\n",
       "  image_extension_original  longitude    image_id  \\\n",
       "0                      jpg        NaN  3519864665   \n",
       "1                      jpg  75.200386  4896119055   \n",
       "2                      jpg        NaN  3468473862   \n",
       "3                      jpg  -8.621177  4120853942   \n",
       "4                      jpg -83.368265  4436083254   \n",
       "\n",
       "                                         license_url date_uploaded  \\\n",
       "0  http://creativecommons.org/licenses/by-nc-nd/2.0/    1242004112   \n",
       "1     http://creativecommons.org/licenses/by-sa/2.0/    1281931224   \n",
       "2        http://creativecommons.org/licenses/by/2.0/    1240493762   \n",
       "3  http://creativecommons.org/licenses/by-nc-nd/2.0/    1258754762   \n",
       "4        http://creativecommons.org/licenses/by/2.0/    1268676971   \n",
       "\n",
       "              date_taken   latitude  \\\n",
       "0  2009-05-10 08:27:33.0        NaN   \n",
       "1  2010-08-14 13:35:10.0  19.939383   \n",
       "2  2009-04-21 18:07:56.0        NaN   \n",
       "3  2009-11-20 15:16:40.0  51.889603   \n",
       "4  2010-03-13 15:14:04.0  33.949149   \n",
       "\n",
       "                                           image_url        user_nickname  \\\n",
       "0  http://www.flickr.com/photos/95156977@N00/3519...  5 Flip-Flops (Earl)   \n",
       "1  http://www.flickr.com/photos/24574470@N00/4896...           sankarshan   \n",
       "2  http://www.flickr.com/photos/73451168@N00/3468...              J Wynia   \n",
       "3  http://www.flickr.com/photos/12947023@N00/4120...             guileite   \n",
       "4  http://www.flickr.com/photos/60704492@N00/4436...              The_Gut   \n",
       "\n",
       "                capture_device  \n",
       "0   Canon EOS DIGITAL REBEL XT  \n",
       "1  NIKON CORPORATION NIKON D90  \n",
       "2            Panasonic DMC-TZ5  \n",
       "3     FUJIFILM FinePix S6000fd  \n",
       "4      Canon PowerShot SX10 IS  "
      ]
     },
     "execution_count": 2,
     "metadata": {},
     "output_type": "execute_result"
    }
   ],
   "source": [
    "# Đọc trực tiếp file JSON thành DataFrame\n",
    "df = pd.read_json('devset_images_metadata.json')\n",
    "\n",
    "# Nếu cần chuyển đổi từ cột chứa danh sách các đối tượng thành các cột DataFrame\n",
    "df = pd.json_normalize(df['images'])\n",
    "\n",
    "# Hiển thị DataFrame\n",
    "df.head()\n"
   ]
  },
  {
   "cell_type": "code",
   "execution_count": 3,
   "id": "426d5bcd-5d4a-4803-b132-a6f078c90725",
   "metadata": {},
   "outputs": [],
   "source": [
    "train_label = pd.read_csv('devset_images_gt.csv')\n",
    "train_label.rename(columns = {'id': 'image_id', 'label': 'train_y'}, inplace = True)\n",
    "data = pd.concat([df, train_label], axis = 1)"
   ]
  },
  {
   "cell_type": "code",
   "execution_count": 4,
   "id": "751467c4-38ff-4a0e-aeae-5fa82a83e212",
   "metadata": {},
   "outputs": [],
   "source": [
    "def preprocess_user_tags(tags):\n",
    "    if isinstance(tags, list):\n",
    "        return ' '.join(tags)\n",
    "    elif pd.isnull(tags):\n",
    "        return '[NULL]'\n",
    "    else:\n",
    "        return tags\n",
    "\n",
    "data['user_tags'] = data['user_tags'].apply(preprocess_user_tags)"
   ]
  },
  {
   "cell_type": "code",
   "execution_count": 5,
   "id": "0322f5b2-9db9-4e25-a538-3a28c63a66d0",
   "metadata": {},
   "outputs": [],
   "source": [
    "data['text'] = data[['description', 'user_tags','title']].apply(lambda x: ' | '.join(x.dropna()), axis=1)\n",
    "texts = data['text'].tolist()"
   ]
  },
  {
   "cell_type": "code",
   "execution_count": 6,
   "id": "fcfa5784-7ece-4496-bdb4-591002b00b3c",
   "metadata": {},
   "outputs": [],
   "source": [
    "label_array = train_label.values"
   ]
  },
  {
   "cell_type": "code",
   "execution_count": 7,
   "id": "7d10c4cf-6cc2-474d-b823-c130f61cc500",
   "metadata": {},
   "outputs": [],
   "source": [
    "import os\n",
    "import numpy as np\n",
    "from PIL import Image\n",
    "import tensorflow as tf\n",
    "\n",
    "# Đường dẫn tới folder chứa ảnh\n",
    "folder_path = \"C:/Users/minhd/FPTU lab/DPL302m/Kaggle/2024-sum-dpl-302-m/devset_images/devset_images\"\n",
    "\n",
    "# Hàm để đọc và xử lý từng ảnh\n",
    "def load_and_preprocess_image(image_path, target_size=(256, 256)):\n",
    "    image = Image.open(image_path)\n",
    "    image = image.resize(target_size)\n",
    "    image = np.array(image)\n",
    "    if image.shape[-1] == 4:  # Nếu ảnh có kênh alpha (RGBA), chuyển về RGB\n",
    "        image = image[:, :, :3]\n",
    "    image = image / 255.0  # Chuẩn hóa ảnh về khoảng [0, 1]\n",
    "    return image\n",
    "\n",
    "# Đọc tất cả các ảnh trong folder\n",
    "images = []\n",
    "Y_train = []\n",
    "\n",
    "# List of allowed file extensions\n",
    "allowed_extensions = ['.jpg', '.png', '.gif']\n",
    "\n",
    "# Giả sử label_array là một mảng các tên file và nhãn tương ứng\n",
    "# Cập nhật lại danh sách các file ảnh với các định dạng khác nhau\n",
    "for filename in os.listdir(folder_path):\n",
    "    # Check if the file has one of the allowed extensions\n",
    "    if os.path.splitext(filename)[1].lower() in allowed_extensions:\n",
    "        # Extract the base name without the extension to match with label_array\n",
    "        basename = os.path.splitext(filename)[0]\n",
    "        # Find the corresponding label for the current image file\n",
    "        for i in label_array:\n",
    "            if basename == str(i[0]):\n",
    "                image_path = os.path.join(folder_path, filename)\n",
    "                image = load_and_preprocess_image(image_path)\n",
    "                images.append(image)\n",
    "                Y_train.append(i[1])\n",
    "                break  # Break the inner loop once the label is found"
   ]
  },
  {
   "cell_type": "code",
   "execution_count": 8,
   "id": "a9d63fd4-5881-4c16-b846-ff54af4d2662",
   "metadata": {},
   "outputs": [],
   "source": [
    "images = np.array(images)"
   ]
  },
  {
   "cell_type": "code",
   "execution_count": 19,
   "id": "735de120-920c-4f6f-bf3e-77b38c2b618b",
   "metadata": {
    "tags": []
   },
   "outputs": [],
   "source": [
    "from transformers import BertTokenizer, TFBertForSequenceClassification, create_optimizer"
   ]
  },
  {
   "cell_type": "code",
   "execution_count": 21,
   "id": "c345662a-9876-40df-9c80-3b4816e69127",
   "metadata": {},
   "outputs": [
    {
     "name": "stderr",
     "output_type": "stream",
     "text": [
      "All PyTorch model weights were used when initializing TFBertForSequenceClassification.\n",
      "\n",
      "Some weights or buffers of the TF 2.0 model TFBertForSequenceClassification were not initialized from the PyTorch model and are newly initialized: ['classifier.weight', 'classifier.bias']\n",
      "You should probably TRAIN this model on a down-stream task to be able to use it for predictions and inference.\n"
     ]
    }
   ],
   "source": [
    "# Load the pre-trained BERT model and tokenizer for text input\n",
    "bert_model = TFBertForSequenceClassification.from_pretrained('bert-base-uncased', num_labels=2)\n",
    "tokenizer = BertTokenizer.from_pretrained('bert-base-uncased')"
   ]
  },
  {
   "cell_type": "code",
   "execution_count": 22,
   "id": "ddc13902-6621-4b40-82f1-346b6c455bd4",
   "metadata": {},
   "outputs": [],
   "source": [
    "# Function to preprocess text data\n",
    "def encode_texts(texts, tokenizer, max_length):\n",
    "    return tokenizer(texts, max_length=max_length, truncation=True, padding='max_length', return_tensors='tf')"
   ]
  },
  {
   "cell_type": "code",
   "execution_count": null,
   "id": "88f7e593-c3c2-49a8-9ae3-dcfcbd931bf0",
   "metadata": {},
   "outputs": [],
   "source": [
    "# Load and preprocess your text data\n",
    "# Replace with your text data\n",
    "input_texts = encode_texts(texts, tokenizer, max_length = 128)\n",
    "bert_output = bert_model(input_texts)"
   ]
  },
  {
   "cell_type": "code",
   "execution_count": null,
   "id": "cf64b6aa-f8a9-41fb-aff0-0c755ca19fa5",
   "metadata": {},
   "outputs": [],
   "source": [
    "# Define EfficientNet model for image input\n",
    "image_input = Input(shape=(256, 256, 3), name='image_input')\n",
    "\n",
    "efficient_net = EfficientNetB0(include_top=False, input_tensor=image_input)\n",
    "efficient_net_output = GlobalAveragePooling2D()(efficient_net.output)"
   ]
  },
  {
   "cell_type": "code",
   "execution_count": null,
   "id": "74bf0485-8df2-4abf-bfa0-7567b27a0f6c",
   "metadata": {},
   "outputs": [],
   "source": [
    "# Combine BERT and EfficientNet outputs\n",
    "combined = Concatenate()([bert_output, efficient_net_output])\n",
    "dense = Dense(256, activation='relu')(combined)\n",
    "output = Dense(num_classes, activation='softmax')(dense)"
   ]
  },
  {
   "cell_type": "code",
   "execution_count": null,
   "id": "d50a9300-dfb0-443b-a7f4-71cb19fbd8ba",
   "metadata": {},
   "outputs": [],
   "source": [
    "# Create the final model\n",
    "model = Model(inputs=[text_input_ids, text_attention_mask, image_input], outputs=output)"
   ]
  },
  {
   "cell_type": "code",
   "execution_count": null,
   "id": "53e46f69-7e71-4b79-9140-5612193a491e",
   "metadata": {},
   "outputs": [],
   "source": [
    "# Compile the model\n",
    "model.compile(optimizer='adam', loss='sparse_categorical_crossentropy', metrics=['accuracy'])\n"
   ]
  },
  {
   "cell_type": "code",
   "execution_count": null,
   "id": "7c4dab0f-326b-4e65-8a23-5d51a8e68381",
   "metadata": {
    "tags": []
   },
   "outputs": [],
   "source": [
    "# Train the model\n",
    "model.fit(\n",
    "    [text_inputs['input_ids'], text_inputs['attention_mask'], images],\n",
    "    labels,\n",
    "    epochs=10,\n",
    "    batch_size=32,\n",
    "    validation_split=0.2\n",
    ")\n"
   ]
  }
 ],
 "metadata": {
  "kernelspec": {
   "display_name": "Python 3 (ipykernel)",
   "language": "python",
   "name": "python3"
  },
  "language_info": {
   "codemirror_mode": {
    "name": "ipython",
    "version": 3
   },
   "file_extension": ".py",
   "mimetype": "text/x-python",
   "name": "python",
   "nbconvert_exporter": "python",
   "pygments_lexer": "ipython3",
   "version": "3.11.9"
  }
 },
 "nbformat": 4,
 "nbformat_minor": 5
}
