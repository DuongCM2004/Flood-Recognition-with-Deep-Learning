{
 "cells": [
  {
   "cell_type": "code",
   "execution_count": null,
   "id": "4c222cb4-9966-4e76-9323-0e6591c665ce",
   "metadata": {},
   "outputs": [],
   "source": [
    "import tensorflow as tf\n",
    "import tensorflow_hub as hub\n",
    "import tensorflow_text as text\n",
    "from sklearn.model_selection import train_test_split"
   ]
  },
  {
   "cell_type": "code",
   "execution_count": null,
   "id": "78a29a20-fc81-43f4-9128-9eba5e96876b",
   "metadata": {},
   "outputs": [],
   "source": [
    "import pandas as pd\n",
    "\n",
    "# Đọc trực tiếp file JSON thành DataFrame\n",
    "df = pd.read_json('devset_images_metadata.json')\n",
    "\n",
    "# Nếu cần chuyển đổi từ cột chứa danh sách các đối tượng thành các cột DataFrame\n",
    "df = pd.json_normalize(df['images'])\n",
    "\n",
    "# Hiển thị DataFrame\n",
    "df.head()\n"
   ]
  },
  {
   "cell_type": "code",
   "execution_count": null,
   "id": "25ed5f4c-a00a-44df-83f5-bd582757949d",
   "metadata": {},
   "outputs": [],
   "source": [
    "train_label = pd.read_csv('devset_images_gt.csv')\n",
    "train_label.head()"
   ]
  },
  {
   "cell_type": "code",
   "execution_count": null,
   "id": "97cafc93-5930-43d8-83ad-44f7a6b57233",
   "metadata": {},
   "outputs": [],
   "source": [
    "train_label.rename(columns = {'id': 'image_id', 'label': 'train_y'}, inplace = True)\n",
    "train_label.head()"
   ]
  },
  {
   "cell_type": "code",
   "execution_count": null,
   "id": "7281ea87-7562-40a1-84ce-1b0f95ef87e4",
   "metadata": {},
   "outputs": [],
   "source": [
    "data = pd.concat([df, train_label], axis = 1)\n",
    "data.head()"
   ]
  },
  {
   "cell_type": "code",
   "execution_count": null,
   "id": "7554740d-e8b4-43e6-84a6-fbc1cf7aca76",
   "metadata": {},
   "outputs": [],
   "source": [
    "def preprocess_user_tags(tags):\n",
    "    if isinstance(tags, list):\n",
    "        return ' '.join(tags)\n",
    "    elif pd.isnull(tags):\n",
    "        return '[NULL]'\n",
    "    else:\n",
    "        return tags\n",
    "\n",
    "data['user_tags'] = data['user_tags'].apply(preprocess_user_tags)"
   ]
  },
  {
   "cell_type": "code",
   "execution_count": null,
   "id": "28ab4162-7763-4498-97ba-f6859dc778fb",
   "metadata": {},
   "outputs": [],
   "source": [
    "data['text'] = data[['description', 'user_tags','title']].apply(lambda x: ' | '.join(x.dropna()), axis=1)\n",
    "data['text']"
   ]
  },
  {
   "cell_type": "code",
   "execution_count": null,
   "id": "dd062bba-5c23-452d-9efb-3359008038d7",
   "metadata": {},
   "outputs": [],
   "source": [
    "texts = data['text'].tolist()\n",
    "labels = data['train_y'].tolist()"
   ]
  },
  {
   "cell_type": "code",
   "execution_count": null,
   "id": "26f7b558-00eb-4b24-8960-328437d5ba4c",
   "metadata": {},
   "outputs": [],
   "source": [
    "train_text, val_text, train_labels, val_labels = train_test_split(texts, labels, test_size=0.2, random_state=42)"
   ]
  },
  {
   "cell_type": "code",
   "execution_count": null,
   "id": "e66909e4-e450-43d5-a8ce-9daa4cd3b358",
   "metadata": {},
   "outputs": [],
   "source": [
    "bert_preprocess = hub.KerasLayer(\"https://tfhub.dev/tensorflow/bert_en_uncased_preprocess/3\")\n",
    "bert_encoder = hub.KerasLayer(\"https://tfhub.dev/tensorflow/bert_en_uncased_L-12_H-768_A-12/4\")"
   ]
  },
  {
   "cell_type": "code",
   "execution_count": null,
   "id": "b74f4cd9-dd1d-444d-a3e9-22478d796e74",
   "metadata": {},
   "outputs": [],
   "source": [
    "# Bert layers\n",
    "text_input = tf.keras.layers.Input(shape=(), dtype=tf.string, name='text')\n",
    "preprocessed_text = bert_preprocess(text_input)\n",
    "outputs = bert_encoder(preprocessed_text)\n",
    "\n",
    "# Neural network layers\n",
    "l = tf.keras.layers.Dropout(0.1, name=\"dropout\")(outputs['pooled_output'])\n",
    "l = tf.keras.layers.Dense(1, activation='sigmoid', name=\"output\")(l)\n",
    "\n",
    "# Use inputs and outputs to construct a final model\n",
    "model = tf.keras.Model(inputs=[text_input], outputs = [l])"
   ]
  },
  {
   "cell_type": "code",
   "execution_count": null,
   "id": "22367e82-c2f8-499d-aede-a47bc1742cf8",
   "metadata": {},
   "outputs": [],
   "source": [
    "model.summary()"
   ]
  },
  {
   "cell_type": "code",
   "execution_count": null,
   "id": "799ba908-6b73-4f3f-9472-cceafb729405",
   "metadata": {},
   "outputs": [],
   "source": [
    "METRICS = [\n",
    "      tf.keras.metrics.BinaryAccuracy(name='accuracy'),\n",
    "      tf.keras.metrics.Precision(name='precision'),\n",
    "      tf.keras.metrics.Recall(name='recall')\n",
    "]\n",
    "\n",
    "model.compile(optimizer='adam',\n",
    "              loss='binary_crossentropy',\n",
    "              metrics=METRICS)"
   ]
  },
  {
   "cell_type": "code",
   "execution_count": null,
   "id": "8d43fcf4-d327-418c-a22e-a4b3316aff7a",
   "metadata": {},
   "outputs": [],
   "source": [
    "model.fit(train_text, train_labels, epochs=10)"
   ]
  },
  {
   "cell_type": "code",
   "execution_count": null,
   "id": "80bbc9d8-a34c-448a-b257-6c0ee43587b8",
   "metadata": {},
   "outputs": [],
   "source": [
    "\n",
    "model.evaluate(val_text, val_labels)"
   ]
  },
  {
   "cell_type": "code",
   "execution_count": null,
   "id": "fcaa0da7-136e-4387-8e25-9709a1a098d2",
   "metadata": {},
   "outputs": [],
   "source": [
    "# Predict on new data\n",
    "import pandas as pd\n",
    "import tensorflow as tf\n",
    "\n",
    "# Load the test data\n",
    "test_df = pd.read_csv('test.csv')\n",
    "\n",
    "# Preprocess the data (handle NaN values, encode text data, etc.)\n",
    "# For example, fill NaN values with a placeholder '[NULL]'\n",
    "test_df['text'] = test_df[['description', 'user_tags','title']].apply(lambda x: ' | '.join(x.dropna()), axis=1)"
   ]
  },
  {
   "cell_type": "code",
   "execution_count": null,
   "id": "ce91ef49-081f-47bb-9e28-79e4517662f0",
   "metadata": {},
   "outputs": [],
   "source": [
    "y_predicted = model.predict(test_df['text'])\n",
    "y_predicted = y_predicted.flatten()"
   ]
  },
  {
   "cell_type": "code",
   "execution_count": null,
   "id": "eed721ff-beef-47b5-a811-dec270d9bf64",
   "metadata": {},
   "outputs": [],
   "source": [
    "import numpy as np\n",
    "\n",
    "y_predicted = np.where(y_predicted > 0.5, 1, 0)\n",
    "y_predicted"
   ]
  },
  {
   "cell_type": "code",
   "execution_count": null,
   "id": "676af17b-057d-4c3d-be59-bbc5c347a93d",
   "metadata": {},
   "outputs": [],
   "source": []
  },
  {
   "cell_type": "code",
   "execution_count": null,
   "id": "6e43e680-8090-4d92-a0c8-a85c75f9c9e2",
   "metadata": {},
   "outputs": [],
   "source": []
  },
  {
   "cell_type": "code",
   "execution_count": null,
   "id": "f5d50d53-1463-43cb-bdf7-60d9a6bbec44",
   "metadata": {},
   "outputs": [],
   "source": []
  },
  {
   "cell_type": "code",
   "execution_count": null,
   "id": "6add19c2-54ae-42e8-8e51-9f4f59c27fcb",
   "metadata": {},
   "outputs": [],
   "source": []
  },
  {
   "cell_type": "code",
   "execution_count": null,
   "id": "83eecf6a-70d8-4142-9693-96014c8583fb",
   "metadata": {},
   "outputs": [],
   "source": []
  }
 ],
 "metadata": {
  "kernelspec": {
   "display_name": "Python 3 (ipykernel)",
   "language": "python",
   "name": "python3"
  },
  "language_info": {
   "codemirror_mode": {
    "name": "ipython",
    "version": 3
   },
   "file_extension": ".py",
   "mimetype": "text/x-python",
   "name": "python",
   "nbconvert_exporter": "python",
   "pygments_lexer": "ipython3",
   "version": "3.11.9"
  }
 },
 "nbformat": 4,
 "nbformat_minor": 5
}
