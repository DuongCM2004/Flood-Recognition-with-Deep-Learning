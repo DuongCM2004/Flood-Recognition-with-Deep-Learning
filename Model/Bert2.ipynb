{
 "cells": [
  {
   "cell_type": "code",
   "execution_count": 1,
   "id": "1edd3251-6814-4917-82ad-c48163ff1d94",
   "metadata": {},
   "outputs": [],
   "source": [
    "import pandas as pd\n",
    "import json\n",
    "import re\n",
    "from sklearn.model_selection import train_test_split\n",
    "\n",
    "# Load data\n",
    "with open('devset_images_metadata.json') as f:\n",
    "    metadata = json.load(f)\n",
    "\n",
    "train_df = pd.read_csv('devset_images_gt.csv')\n",
    "test_df = pd.read_csv('test.csv')\n",
    "\n",
    "# Extract text data from JSON\n",
    "texts = []\n",
    "for image in metadata['images']:\n",
    "    title = image.get('title', '')\n",
    "    description = image.get('description', '')\n",
    "    user_tags = ' '.join(image.get('user_tags', []))\n",
    "    text = f\"{title} {description} {user_tags}\".strip()\n",
    "    texts.append(text)\n",
    "\n",
    "# Add texts to train_df\n",
    "train_df['text'] = texts\n",
    "\n",
    "# Cleaning function\n",
    "def clean_text(text):\n",
    "    text = text.lower()\n",
    "    text = re.sub(r'\\s+', ' ', text)\n",
    "    text = re.sub(r'[^a-zA-Z\\s]', '', text)\n",
    "    return text\n",
    "\n",
    "# Apply cleaning\n",
    "train_df['cleaned_text'] = train_df['text'].apply(clean_text)\n",
    "\n",
    "train_texts = train_df['cleaned_text'].tolist()\n",
    "train_labels = train_df['label'].tolist()\n"
   ]
  },
  {
   "cell_type": "code",
   "execution_count": 2,
   "id": "abeb5069-f30b-405f-86fc-4ae66eb36387",
   "metadata": {},
   "outputs": [],
   "source": [
    "from transformers import BertTokenizer\n",
    "\n",
    "tokenizer = BertTokenizer.from_pretrained('bert-base-uncased')\n",
    "\n",
    "def preprocess(texts, labels, max_length=128):\n",
    "    encodings = tokenizer(texts, truncation=True, padding=True, max_length=max_length)\n",
    "    return encodings['input_ids'], encodings['attention_mask'], labels\n",
    "\n",
    "input_ids, attention_masks, labels = preprocess(train_texts, train_labels)\n"
   ]
  },
  {
   "cell_type": "code",
   "execution_count": 3,
   "id": "79cd464d-b96c-4548-88e8-f33f9b885eea",
   "metadata": {},
   "outputs": [],
   "source": [
    "from sklearn.model_selection import KFold\n",
    "import numpy as np\n",
    "\n",
    "kf = KFold(n_splits=5, shuffle=True, random_state=42)\n",
    "splits = list(kf.split(input_ids))\n",
    "\n",
    "# Example of how to use one split for training and validation\n",
    "train_idx, val_idx = splits[0]\n",
    "train_inputs = np.array(input_ids)[train_idx]\n",
    "train_masks = np.array(attention_masks)[train_idx]\n",
    "train_labels = np.array(labels)[train_idx]\n",
    "val_inputs = np.array(input_ids)[val_idx]\n",
    "val_masks = np.array(attention_masks)[val_idx]\n",
    "val_labels = np.array(labels)[val_idx]\n"
   ]
  },
  {
   "cell_type": "code",
   "execution_count": 16,
   "id": "ab144d70-8c28-4f86-b341-50bc29a6878a",
   "metadata": {},
   "outputs": [
    {
     "name": "stderr",
     "output_type": "stream",
     "text": [
      "C:\\Users\\minhd\\AppData\\Local\\Temp\\ipykernel_25740\\3126032147.py:6: UserWarning: To copy construct from a tensor, it is recommended to use sourceTensor.clone().detach() or sourceTensor.clone().detach().requires_grad_(True), rather than torch.tensor(sourceTensor).\n",
      "  train_inputs = torch.tensor(train_inputs)\n",
      "C:\\Users\\minhd\\AppData\\Local\\Temp\\ipykernel_25740\\3126032147.py:7: UserWarning: To copy construct from a tensor, it is recommended to use sourceTensor.clone().detach() or sourceTensor.clone().detach().requires_grad_(True), rather than torch.tensor(sourceTensor).\n",
      "  train_masks = torch.tensor(train_masks)\n",
      "C:\\Users\\minhd\\AppData\\Local\\Temp\\ipykernel_25740\\3126032147.py:8: UserWarning: To copy construct from a tensor, it is recommended to use sourceTensor.clone().detach() or sourceTensor.clone().detach().requires_grad_(True), rather than torch.tensor(sourceTensor).\n",
      "  train_labels = torch.tensor(train_labels, dtype=torch.long)\n",
      "C:\\Users\\minhd\\AppData\\Local\\Temp\\ipykernel_25740\\3126032147.py:10: UserWarning: To copy construct from a tensor, it is recommended to use sourceTensor.clone().detach() or sourceTensor.clone().detach().requires_grad_(True), rather than torch.tensor(sourceTensor).\n",
      "  val_inputs = torch.tensor(val_inputs)\n",
      "C:\\Users\\minhd\\AppData\\Local\\Temp\\ipykernel_25740\\3126032147.py:11: UserWarning: To copy construct from a tensor, it is recommended to use sourceTensor.clone().detach() or sourceTensor.clone().detach().requires_grad_(True), rather than torch.tensor(sourceTensor).\n",
      "  val_masks = torch.tensor(val_masks)\n",
      "C:\\Users\\minhd\\AppData\\Local\\Temp\\ipykernel_25740\\3126032147.py:12: UserWarning: To copy construct from a tensor, it is recommended to use sourceTensor.clone().detach() or sourceTensor.clone().detach().requires_grad_(True), rather than torch.tensor(sourceTensor).\n",
      "  val_labels = torch.tensor(val_labels, dtype=torch.long)\n",
      "Some weights of BertForSequenceClassification were not initialized from the model checkpoint at bert-base-uncased and are newly initialized: ['classifier.bias', 'classifier.weight']\n",
      "You should probably TRAIN this model on a down-stream task to be able to use it for predictions and inference.\n"
     ]
    }
   ],
   "source": [
    "import torch\n",
    "from torch.utils.data import TensorDataset, DataLoader, RandomSampler, SequentialSampler\n",
    "from transformers import BertForSequenceClassification, AdamW\n",
    "\n",
    "# Convert to PyTorch tensors\n",
    "train_inputs = torch.tensor(train_inputs)\n",
    "train_masks = torch.tensor(train_masks)\n",
    "train_labels = torch.tensor(train_labels, dtype=torch.long)\n",
    "\n",
    "val_inputs = torch.tensor(val_inputs)\n",
    "val_masks = torch.tensor(val_masks)\n",
    "val_labels = torch.tensor(val_labels, dtype=torch.long)\n",
    "\n",
    "# Create DataLoader\n",
    "train_data = TensorDataset(train_inputs, train_masks, train_labels)\n",
    "train_sampler = RandomSampler(train_data)\n",
    "train_dataloader = DataLoader(train_data, sampler=train_sampler, batch_size=16)\n",
    "\n",
    "val_data = TensorDataset(val_inputs, val_masks, val_labels)\n",
    "val_sampler = SequentialSampler(val_data)\n",
    "val_dataloader = DataLoader(val_data, sampler=val_sampler, batch_size=16)\n",
    "\n",
    "# Load pre-trained BERT model\n",
    "model = BertForSequenceClassification.from_pretrained('bert-base-uncased', num_labels=2)\n",
    "\n",
    "# Optimizer\n",
    "optimizer = torch.optim.AdamW(model.parameters(), lr=2e-5, eps=1e-8)\n"
   ]
  },
  {
   "cell_type": "code",
   "execution_count": 18,
   "id": "30c2e11c-b55a-4c5b-997a-59f38f0cc4dd",
   "metadata": {},
   "outputs": [
    {
     "name": "stdout",
     "output_type": "stream",
     "text": [
      "Average train loss: 0.32626622968889546\n",
      "Average train loss: 0.21199138868938794\n",
      "Average train loss: 0.14264181283810598\n",
      "Average train loss: 0.09951477399744997\n"
     ]
    }
   ],
   "source": [
    "from transformers import get_linear_schedule_with_warmup\n",
    "\n",
    "epochs = 4\n",
    "total_steps = len(train_dataloader) * epochs\n",
    "\n",
    "scheduler = get_linear_schedule_with_warmup(optimizer, num_warmup_steps=0, num_training_steps=total_steps)\n",
    "\n",
    "# Training loop\n",
    "for epoch in range(epochs):\n",
    "    model.train()\n",
    "    total_loss = 0\n",
    "    for step, batch in enumerate(train_dataloader):\n",
    "        b_input_ids, b_input_mask, b_labels = batch\n",
    "        model.zero_grad()\n",
    "        outputs = model(b_input_ids, attention_mask=b_input_mask, labels=b_labels)\n",
    "        loss = outputs.loss\n",
    "        total_loss += loss.item()\n",
    "        loss.backward()\n",
    "        optimizer.step()\n",
    "        scheduler.step()\n",
    "    avg_train_loss = total_loss / len(train_dataloader)\n",
    "    print(f\"Average train loss: {avg_train_loss}\")\n"
   ]
  },
  {
   "cell_type": "code",
   "execution_count": 19,
   "id": "f14963cc-7f84-4db3-b1d1-bfc58afeacb5",
   "metadata": {},
   "outputs": [
    {
     "name": "stdout",
     "output_type": "stream",
     "text": [
      "Accuracy: 0.9015151515151515\n",
      "Precision: 0.8419811320754716\n",
      "Recall: 0.9060913705583756\n",
      "F1-score: 0.8728606356968215\n"
     ]
    }
   ],
   "source": [
    "from sklearn.metrics import accuracy_score, precision_recall_fscore_support\n",
    "\n",
    "model.eval()\n",
    "val_preds, val_labels = [], []\n",
    "\n",
    "for batch in val_dataloader:\n",
    "    b_input_ids, b_input_mask, b_labels = batch\n",
    "    with torch.no_grad():\n",
    "        outputs = model(b_input_ids, attention_mask=b_input_mask)\n",
    "    logits = outputs.logits\n",
    "    predictions = torch.argmax(logits, dim=-1)\n",
    "    val_preds.extend(predictions.cpu().numpy())\n",
    "    val_labels.extend(b_labels.cpu().numpy())\n",
    "\n",
    "accuracy = accuracy_score(val_labels, val_preds)\n",
    "precision, recall, f1, _ = precision_recall_fscore_support(val_labels, val_preds, average='binary')\n",
    "\n",
    "print(f\"Accuracy: {accuracy}\")\n",
    "print(f\"Precision: {precision}\")\n",
    "print(f\"Recall: {recall}\")\n",
    "print(f\"F1-score: {f1}\")\n"
   ]
  },
  {
   "cell_type": "code",
   "execution_count": 30,
   "id": "adb2bf45-daea-49bc-bd6e-d6e0e5d04ac2",
   "metadata": {},
   "outputs": [
    {
     "data": {
      "image/png": "[encoded data removed]",
      "text/plain": [
       "<Figure size 640x480 with 2 Axes>"
      ]
     },
     "metadata": {},
     "output_type": "display_data"
    }
   ],
   "source": [
    "import matplotlib.pyplot as plt\n",
    "from sklearn.metrics import confusion_matrix\n",
    "import seaborn as sns\n",
    "\n",
    "cm = confusion_matrix(val_labels, val_preds)\n",
    "sns.heatmap(cm, annot=True, fmt='d', cmap='Blues')\n",
    "plt.tight_layout()\n",
    "plt.xlabel('Predicted')\n",
    "plt.ylabel('True')\n",
    "plt.title('Confusion Matrix')\n",
    "plt.show()\n"
   ]
  },
  {
   "cell_type": "code",
   "execution_count": 36,
   "id": "7f0be860-26e5-4785-81bb-8f2f423232d4",
   "metadata": {},
   "outputs": [
    {
     "data": {
      "text/plain": [
       "('bert_text_classification_tokenizer\\\\tokenizer_config.json',\n",
       " 'bert_text_classification_tokenizer\\\\special_tokens_map.json',\n",
       " 'bert_text_classification_tokenizer\\\\vocab.txt',\n",
       " 'bert_text_classification_tokenizer\\\\added_tokens.json')"
      ]
     },
     "execution_count": 36,
     "metadata": {},
     "output_type": "execute_result"
    }
   ],
   "source": [
    "model.save_pretrained('bert_text_classification_model')\n",
    "tokenizer.save_pretrained('bert_text_classification_tokenizer')\n"
   ]
  },
  {
   "cell_type": "code",
   "execution_count": 41,
   "id": "1f05b099-68af-498b-93ef-5907d44a3c6b",
   "metadata": {
    "tags": []
   },
   "outputs": [],
   "source": [
    "# Predict on test set\n",
    "# Clean and preprocess test set\n",
    "test_df['text'] = test_df[['description', 'user_tags','title']].apply(lambda x: ' | '.join(x.dropna()), axis=1)\n",
    "test_texts = test_df['text'].apply(clean_text).tolist()\n",
    "test_input_ids, test_attention_masks, _ = preprocess(test_texts, [0]*len(test_texts))\n",
    "\n",
    "test_data = TensorDataset(torch.tensor(test_input_ids), torch.tensor(test_attention_masks))\n",
    "test_sampler = SequentialSampler(test_data)\n",
    "test_dataloader = DataLoader(test_data, sampler=test_sampler, batch_size=16)\n",
    "\n",
    "# Predict\n",
    "test_preds = []\n",
    "\n",
    "model.eval()\n",
    "for batch in test_dataloader:\n",
    "    b_input_ids, b_input_mask = batch\n",
    "    with torch.no_grad():\n",
    "        outputs = model(b_input_ids, attention_mask=b_input_mask)\n",
    "    logits = outputs.logits\n",
    "    predictions = torch.argmax(logits, dim=-1)\n",
    "    test_preds.extend(predictions.cpu().numpy())\n",
    "\n",
    "test_df['label'] = test_preds\n",
    "test_df['id'] = test_df['image_id']\n",
    "predict = test_df[['id', 'predicted_label']]\n",
    "predict.to_csv('test_predictions.csv', index=False)"
   ]
  },
  {
   "cell_type": "code",
   "execution_count": 48,
   "id": "a11310ce-3f66-436c-9011-9eade1e9c243",
   "metadata": {
    "tags": []
   },
   "outputs": [],
   "source": [
    "test_df['label'] = test_preds\n",
    "test_df['id'] = test_df['image_id']\n",
    "predict = test_df[['id', 'label']]\n",
    "predict.to_csv('test_predictions.csv', index=False)"
   ]
  },
  {
   "cell_type": "code",
   "execution_count": null,
   "id": "721498fe-34df-4447-8f70-1aae569d982d",
   "metadata": {},
   "outputs": [],
   "source": []
  }
 ],
 "metadata": {
  "kernelspec": {
   "display_name": "Python 3 (ipykernel)",
   "language": "python",
   "name": "python3"
  },
  "language_info": {
   "codemirror_mode": {
    "name": "ipython",
    "version": 3
   },
   "file_extension": ".py",
   "mimetype": "text/x-python",
   "name": "python",
   "nbconvert_exporter": "python",
   "pygments_lexer": "ipython3",
   "version": "3.11.9"
  }
 },
 "nbformat": 4,
 "nbformat_minor": 5
}
